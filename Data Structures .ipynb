{
  "nbformat": 4,
  "nbformat_minor": 0,
  "metadata": {
    "kernelspec": {
      "display_name": "Python 3",
      "language": "python",
      "name": "python3"
    },
    "language_info": {
      "codemirror_mode": {
        "name": "ipython",
        "version": 3
      },
      "file_extension": ".py",
      "mimetype": "text/x-python",
      "name": "python",
      "nbconvert_exporter": "python",
      "pygments_lexer": "ipython3",
      "version": "3.7.1"
    },
    "colab": {
      "name": "Data Structures .ipynb",
      "provenance": []
    }
  },
  "cells": [
    {
      "cell_type": "markdown",
      "metadata": {
        "id": "uWY28ZUetqff",
        "colab_type": "text"
      },
      "source": [
        "# Data Structures"
      ]
    },
    {
      "cell_type": "markdown",
      "metadata": {
        "id": "L-_UhcsItqfk",
        "colab_type": "text"
      },
      "source": [
        "In computer science, a data structure is a data organization, management, and storage format that enables efficient access and modification. More precisely, a data structure is a collection of data values, the relationships among them, and the functions or operations that can be applied to the data.\n",
        "\n",
        "There are basically four type of data structure in Python i.e. ***List, Tuple, Dictionary and Set***.\n",
        "\n",
        "We will go through these one by one. "
      ]
    },
    {
      "cell_type": "markdown",
      "metadata": {
        "id": "GJh4e7witqfm",
        "colab_type": "text"
      },
      "source": [
        "## Lists"
      ]
    },
    {
      "cell_type": "markdown",
      "metadata": {
        "id": "5o1cGN1-tqfo",
        "colab_type": "text"
      },
      "source": [
        "A list is a data structure that holds an ordered collection of items i.e. you can store a sequence of items in a list. \n",
        "\n",
        "List can be written as a list of comma-separated values (items) between square brackets.\n",
        "\n",
        "Important thing about a list is that items in a list need not be of the same type."
      ]
    },
    {
      "cell_type": "code",
      "metadata": {
        "id": "uPbesoJXtqfr",
        "colab_type": "code",
        "colab": {}
      },
      "source": [
        "fruitlist = ['apple', 'mango', 'carrot', 'banana'] #creating list"
      ],
      "execution_count": 0,
      "outputs": []
    },
    {
      "cell_type": "code",
      "metadata": {
        "id": "OqgmKnqPtqfz",
        "colab_type": "code",
        "colab": {},
        "outputId": "0e5af007-de8b-4e0f-c94b-7de58d42aa49"
      },
      "source": [
        "print(fruitlist) #printing List"
      ],
      "execution_count": 0,
      "outputs": [
        {
          "output_type": "stream",
          "text": [
            "['apple', 'mango', 'carrot', 'banana']\n"
          ],
          "name": "stdout"
        }
      ]
    },
    {
      "cell_type": "code",
      "metadata": {
        "id": "YYNysBEatqf8",
        "colab_type": "code",
        "colab": {}
      },
      "source": [
        "Subject_and_year_list = ['physics', 'chemistry', 1997, 2000]"
      ],
      "execution_count": 0,
      "outputs": []
    },
    {
      "cell_type": "code",
      "metadata": {
        "id": "rdrdmxFrtqgD",
        "colab_type": "code",
        "colab": {},
        "outputId": "5bd0a07e-9e37-4d77-fe0b-c7d52ead498f"
      },
      "source": [
        "Subject_and_year_list"
      ],
      "execution_count": 0,
      "outputs": [
        {
          "output_type": "execute_result",
          "data": {
            "text/plain": [
              "['physics', 'chemistry', 1997, 2000]"
            ]
          },
          "metadata": {
            "tags": []
          },
          "execution_count": 124
        }
      ]
    },
    {
      "cell_type": "markdown",
      "metadata": {
        "id": "rkWeHn4UtqgK",
        "colab_type": "text"
      },
      "source": [
        "### Accessing Values in Lists"
      ]
    },
    {
      "cell_type": "markdown",
      "metadata": {
        "id": "XyhiEXNGtqgN",
        "colab_type": "text"
      },
      "source": [
        "For selecting any value we use the square brackets for slicing along with the index or indices to obtain value available at that index\n",
        "\n",
        "#### Selecting only 1 value \n",
        "\n",
        "list_name \\[ index ]"
      ]
    },
    {
      "cell_type": "code",
      "metadata": {
        "id": "YgxNqM_OtqgP",
        "colab_type": "code",
        "colab": {},
        "outputId": "a02fae9e-9bb9-40ce-f2fd-5da374d0ab95"
      },
      "source": [
        "print(\"fruitlist[0]: \", fruitlist[0])"
      ],
      "execution_count": 0,
      "outputs": [
        {
          "output_type": "stream",
          "text": [
            "fruitlist[0]:  apple\n"
          ],
          "name": "stdout"
        }
      ]
    },
    {
      "cell_type": "code",
      "metadata": {
        "id": "W5U931xrtqgW",
        "colab_type": "code",
        "colab": {}
      },
      "source": [
        ""
      ],
      "execution_count": 0,
      "outputs": []
    },
    {
      "cell_type": "markdown",
      "metadata": {
        "id": "i0gVCPt6tqgd",
        "colab_type": "text"
      },
      "source": [
        "#### Selecting multiple value \n",
        "\n",
        "list_name \\[ Start_index : End_index-1 ]\n",
        "\n",
        "i.e. from index 1 to 3, it starts from index 1 and end at last range-1  "
      ]
    },
    {
      "cell_type": "code",
      "metadata": {
        "id": "wh1rFEmdtqgg",
        "colab_type": "code",
        "colab": {},
        "outputId": "a6988e92-856a-4831-e146-92712620bb7b"
      },
      "source": [
        "print(\"Subject_and_year_list[1:5]: \", Subject_and_year_list[1:3])"
      ],
      "execution_count": 0,
      "outputs": [
        {
          "output_type": "stream",
          "text": [
            "Subject_and_year_list[1:5]:  ['chemistry', 1997]\n"
          ],
          "name": "stdout"
        }
      ]
    },
    {
      "cell_type": "markdown",
      "metadata": {
        "id": "PqnN_yJqtqgn",
        "colab_type": "text"
      },
      "source": [
        "### Updating Lists"
      ]
    },
    {
      "cell_type": "markdown",
      "metadata": {
        "id": "upaby3NRtqgp",
        "colab_type": "text"
      },
      "source": [
        "You can update single or multiple values in list \n",
        "\n",
        "#### Updating single value \n",
        "\n",
        "listname \\[ index ] = new value"
      ]
    },
    {
      "cell_type": "code",
      "metadata": {
        "id": "TVgozlmttqgr",
        "colab_type": "code",
        "colab": {},
        "outputId": "ebd4d807-c7be-4008-bb41-6ecf6aeb0855"
      },
      "source": [
        "Subject_and_year_list #given list"
      ],
      "execution_count": 0,
      "outputs": [
        {
          "output_type": "execute_result",
          "data": {
            "text/plain": [
              "['physics', 'chemistry', 1997, 2000]"
            ]
          },
          "metadata": {
            "tags": []
          },
          "execution_count": 127
        }
      ]
    },
    {
      "cell_type": "code",
      "metadata": {
        "id": "Ic8nmsbTtqgy",
        "colab_type": "code",
        "colab": {}
      },
      "source": [
        "Subject_and_year_list[2] = \"maths\" #chnaging 2nd index of list"
      ],
      "execution_count": 0,
      "outputs": []
    },
    {
      "cell_type": "code",
      "metadata": {
        "id": "dQtxE7XLtqg4",
        "colab_type": "code",
        "colab": {},
        "outputId": "b05c98f2-b2c6-4f72-ccc4-52ea827fb9d3"
      },
      "source": [
        "Subject_and_year_list #after update"
      ],
      "execution_count": 0,
      "outputs": [
        {
          "output_type": "execute_result",
          "data": {
            "text/plain": [
              "['physics', 'chemistry', 'maths', 2000]"
            ]
          },
          "metadata": {
            "tags": []
          },
          "execution_count": 129
        }
      ]
    },
    {
      "cell_type": "markdown",
      "metadata": {
        "id": "pwzqXZVDtqhC",
        "colab_type": "text"
      },
      "source": [
        "#### Updating Multiple values in list \n",
        "\n",
        "list_name \\[ Start_index : End_index-1 ] = new list "
      ]
    },
    {
      "cell_type": "code",
      "metadata": {
        "id": "NmQQFKS-tqhE",
        "colab_type": "code",
        "colab": {},
        "outputId": "322c0b07-7096-4708-d17a-c71909513a34"
      },
      "source": [
        "fruitlist"
      ],
      "execution_count": 0,
      "outputs": [
        {
          "output_type": "execute_result",
          "data": {
            "text/plain": [
              "['apple', 'mango', 'carrot', 'banana']"
            ]
          },
          "metadata": {
            "tags": []
          },
          "execution_count": 130
        }
      ]
    },
    {
      "cell_type": "code",
      "metadata": {
        "id": "Ago-wzKntqhL",
        "colab_type": "code",
        "colab": {}
      },
      "source": [
        "fruitlist[1:3] = [\"carrot\",\"mango\"] #changing index 1 and 2 with new list"
      ],
      "execution_count": 0,
      "outputs": []
    },
    {
      "cell_type": "code",
      "metadata": {
        "id": "Q0UwhZontqhS",
        "colab_type": "code",
        "colab": {},
        "outputId": "098ca4fa-2948-4b9c-9e66-964d91a76d59"
      },
      "source": [
        "fruitlist #after change"
      ],
      "execution_count": 0,
      "outputs": [
        {
          "output_type": "execute_result",
          "data": {
            "text/plain": [
              "['apple', 'carrot', 'mango', 'banana']"
            ]
          },
          "metadata": {
            "tags": []
          },
          "execution_count": 132
        }
      ]
    },
    {
      "cell_type": "code",
      "metadata": {
        "id": "4eIH4mmOtqhY",
        "colab_type": "code",
        "colab": {}
      },
      "source": [
        "fruitlist[1:3] = [\"orange\"] #changing index 1 and 2 with new list"
      ],
      "execution_count": 0,
      "outputs": []
    },
    {
      "cell_type": "code",
      "metadata": {
        "id": "8fZSSNFAtqhf",
        "colab_type": "code",
        "colab": {},
        "outputId": "3f5dfafb-4efb-483a-da9b-5144c52e00db"
      },
      "source": [
        "fruitlist #after change"
      ],
      "execution_count": 0,
      "outputs": [
        {
          "output_type": "execute_result",
          "data": {
            "text/plain": [
              "['apple', 'orange', 'banana']"
            ]
          },
          "metadata": {
            "tags": []
          },
          "execution_count": 134
        }
      ]
    },
    {
      "cell_type": "markdown",
      "metadata": {
        "id": "A-K661E3tqhm",
        "colab_type": "text"
      },
      "source": [
        "### Delete List Elements"
      ]
    },
    {
      "cell_type": "markdown",
      "metadata": {
        "id": "uWoggsPqtqho",
        "colab_type": "text"
      },
      "source": [
        "we can delete list element by index and also by value \n",
        "\n",
        "For deleting element by index we use **del** "
      ]
    },
    {
      "cell_type": "code",
      "metadata": {
        "id": "WUE9U7oUtqhq",
        "colab_type": "code",
        "colab": {}
      },
      "source": [
        "del fruitlist[1] #deleting element at index 1"
      ],
      "execution_count": 0,
      "outputs": []
    },
    {
      "cell_type": "code",
      "metadata": {
        "id": "UZeqxr12tqhx",
        "colab_type": "code",
        "colab": {},
        "outputId": "6b70ec9e-44d4-4e1b-9829-b85be8ca1ba5"
      },
      "source": [
        "fruitlist  #after update"
      ],
      "execution_count": 0,
      "outputs": [
        {
          "output_type": "execute_result",
          "data": {
            "text/plain": [
              "['apple', 'banana']"
            ]
          },
          "metadata": {
            "tags": []
          },
          "execution_count": 136
        }
      ]
    },
    {
      "cell_type": "markdown",
      "metadata": {
        "id": "0ZZrHP9Ptqh8",
        "colab_type": "text"
      },
      "source": [
        "For deleting elements by element itself we use **remove( )**"
      ]
    },
    {
      "cell_type": "code",
      "metadata": {
        "id": "rffP6eWAtqh_",
        "colab_type": "code",
        "colab": {},
        "outputId": "5fd3b3f3-94dc-41fc-c648-8e1cb8f7d88f"
      },
      "source": [
        "Subject_and_year_list #list before removing"
      ],
      "execution_count": 0,
      "outputs": [
        {
          "output_type": "execute_result",
          "data": {
            "text/plain": [
              "['physics', 'chemistry', 'maths', 2000]"
            ]
          },
          "metadata": {
            "tags": []
          },
          "execution_count": 137
        }
      ]
    },
    {
      "cell_type": "code",
      "metadata": {
        "id": "tOZl63dktqiH",
        "colab_type": "code",
        "colab": {}
      },
      "source": [
        "Subject_and_year_list.remove(2000) #removing element i.e 2000 in list"
      ],
      "execution_count": 0,
      "outputs": []
    },
    {
      "cell_type": "code",
      "metadata": {
        "id": "isMVt5N1tqiM",
        "colab_type": "code",
        "colab": {},
        "outputId": "ed13b58a-4ec0-4be7-e91b-1c531fb0c32a"
      },
      "source": [
        "Subject_and_year_list #after removing"
      ],
      "execution_count": 0,
      "outputs": [
        {
          "output_type": "execute_result",
          "data": {
            "text/plain": [
              "['physics', 'chemistry', 'maths']"
            ]
          },
          "metadata": {
            "tags": []
          },
          "execution_count": 139
        }
      ]
    },
    {
      "cell_type": "markdown",
      "metadata": {
        "id": "ZWcyvm4FtqiS",
        "colab_type": "text"
      },
      "source": [
        "### Basic List Operations"
      ]
    },
    {
      "cell_type": "markdown",
      "metadata": {
        "id": "xXSx77bHtqiU",
        "colab_type": "text"
      },
      "source": [
        "If we multiply any list with any number it repeats all the elements in list "
      ]
    },
    {
      "cell_type": "code",
      "metadata": {
        "id": "QZhupkSHtqiW",
        "colab_type": "code",
        "colab": {}
      },
      "source": [
        "list1 = [\"Hi\",2] #new list"
      ],
      "execution_count": 0,
      "outputs": []
    },
    {
      "cell_type": "code",
      "metadata": {
        "id": "pttkxov_tqic",
        "colab_type": "code",
        "colab": {},
        "outputId": "e46ddef3-1431-4083-a35c-eb375173450c"
      },
      "source": [
        "list1*3 #repeatation of list "
      ],
      "execution_count": 0,
      "outputs": [
        {
          "output_type": "execute_result",
          "data": {
            "text/plain": [
              "['Hi', 2, 'Hi', 2, 'Hi', 2]"
            ]
          },
          "metadata": {
            "tags": []
          },
          "execution_count": 21
        }
      ]
    },
    {
      "cell_type": "code",
      "metadata": {
        "id": "ogpesJMEtqii",
        "colab_type": "code",
        "colab": {}
      },
      "source": [
        "list2 = [3] #new list with one variable "
      ],
      "execution_count": 0,
      "outputs": []
    },
    {
      "cell_type": "code",
      "metadata": {
        "id": "RjYnnN-itqio",
        "colab_type": "code",
        "colab": {},
        "outputId": "0d487a3b-8021-455f-9801-414073750f98"
      },
      "source": [
        "list2*3 #repeatation of list "
      ],
      "execution_count": 0,
      "outputs": [
        {
          "output_type": "execute_result",
          "data": {
            "text/plain": [
              "[3, 3, 3]"
            ]
          },
          "metadata": {
            "tags": []
          },
          "execution_count": 23
        }
      ]
    },
    {
      "cell_type": "markdown",
      "metadata": {
        "id": "xuZgFe4Vtqit",
        "colab_type": "text"
      },
      "source": [
        "If we have to check whether an element in the list or not we simply use **in**"
      ]
    },
    {
      "cell_type": "code",
      "metadata": {
        "id": "coPDCjwvtqiv",
        "colab_type": "code",
        "colab": {}
      },
      "source": [
        "list3 = [1,2,3] #new list"
      ],
      "execution_count": 0,
      "outputs": []
    },
    {
      "cell_type": "code",
      "metadata": {
        "id": "GaZ_2tFOtqi3",
        "colab_type": "code",
        "colab": {},
        "outputId": "6668f670-cf01-4ec3-8fa5-e5c0aa78e32b"
      },
      "source": [
        "2 in list3 #cheching if number 2 is in the list or not, it returns boolen value"
      ],
      "execution_count": 0,
      "outputs": [
        {
          "output_type": "execute_result",
          "data": {
            "text/plain": [
              "True"
            ]
          },
          "metadata": {
            "tags": []
          },
          "execution_count": 25
        }
      ]
    },
    {
      "cell_type": "markdown",
      "metadata": {
        "id": "8Q0kON4wtqi9",
        "colab_type": "text"
      },
      "source": [
        "If we have to merge or concatinate 2 list we simply use **+** operator "
      ]
    },
    {
      "cell_type": "code",
      "metadata": {
        "id": "_J82VpYYtqi_",
        "colab_type": "code",
        "colab": {}
      },
      "source": [
        "list4  = [1, 2, 3] #defining new list"
      ],
      "execution_count": 0,
      "outputs": []
    },
    {
      "cell_type": "code",
      "metadata": {
        "id": "DGkXr2pdtqjD",
        "colab_type": "code",
        "colab": {}
      },
      "source": [
        "list5 =  [4, 5, 6] #defining new list"
      ],
      "execution_count": 0,
      "outputs": []
    },
    {
      "cell_type": "code",
      "metadata": {
        "id": "JSpPHa8ItqjI",
        "colab_type": "code",
        "colab": {},
        "outputId": "178638bd-da9b-4edd-a570-8de4a1a47a32"
      },
      "source": [
        "list4 + list5 #concating 2 list"
      ],
      "execution_count": 0,
      "outputs": [
        {
          "output_type": "execute_result",
          "data": {
            "text/plain": [
              "[1, 2, 3, 4, 5, 6]"
            ]
          },
          "metadata": {
            "tags": []
          },
          "execution_count": 28
        }
      ]
    },
    {
      "cell_type": "markdown",
      "metadata": {
        "id": "WiSGWCrktqjN",
        "colab_type": "text"
      },
      "source": [
        "If we have to find the length of a list we use **len( )**"
      ]
    },
    {
      "cell_type": "code",
      "metadata": {
        "id": "va1D6gsjtqjP",
        "colab_type": "code",
        "colab": {}
      },
      "source": [
        "list6 = [1,2,3,4] #new list "
      ],
      "execution_count": 0,
      "outputs": []
    },
    {
      "cell_type": "code",
      "metadata": {
        "id": "8l4j6E6xtqjU",
        "colab_type": "code",
        "colab": {},
        "outputId": "8a1ac85a-c2d8-4946-d68c-ac4033efa3f8"
      },
      "source": [
        "len(list6) #finding length of list "
      ],
      "execution_count": 0,
      "outputs": [
        {
          "output_type": "execute_result",
          "data": {
            "text/plain": [
              "4"
            ]
          },
          "metadata": {
            "tags": []
          },
          "execution_count": 30
        }
      ]
    },
    {
      "cell_type": "markdown",
      "metadata": {
        "id": "5Rde0K8htqjZ",
        "colab_type": "text"
      },
      "source": [
        "## Tuple\n",
        "A tuple is a sequence of immutable Python objects. Tuples are sequences, just like lists. The differences between tuples and lists are, the tuples cannot be changed unlike lists and tuples use parentheses, whereas lists use square brackets."
      ]
    },
    {
      "cell_type": "code",
      "metadata": {
        "id": "Hd7OaKkBtqjd",
        "colab_type": "code",
        "colab": {}
      },
      "source": [
        "tup1 = ('physics', 'chemistry', 1997, 2000) #new tuple\n",
        "tup2 = (1, 2, 3, 4, 5 ) #new tuple\n",
        "tup3 = \"a\", \"b\", \"c\", \"d\" #new tuple"
      ],
      "execution_count": 0,
      "outputs": []
    },
    {
      "cell_type": "code",
      "metadata": {
        "id": "u7an71tztqji",
        "colab_type": "code",
        "colab": {},
        "outputId": "64886afa-f240-4ec8-e6a3-3e375ab54e77"
      },
      "source": [
        "print(tup1,tup2,tup3) #printing tuple"
      ],
      "execution_count": 0,
      "outputs": [
        {
          "output_type": "stream",
          "text": [
            "('physics', 'chemistry', 1997, 2000) (1, 2, 3, 4, 5) ('a', 'b', 'c', 'd')\n"
          ],
          "name": "stdout"
        }
      ]
    },
    {
      "cell_type": "markdown",
      "metadata": {
        "id": "BhJsWYiFtqjn",
        "colab_type": "text"
      },
      "source": [
        "### Accessing Values in Tuples\n",
        "For selecting any value we use the square brackets for slicing along with the index or indices to obtain value available at that index\n",
        "\n",
        "#### Selecting only 1 value \n",
        "\n",
        "tuple_name \\[ index ]"
      ]
    },
    {
      "cell_type": "code",
      "metadata": {
        "id": "0BC0Bc18tqjp",
        "colab_type": "code",
        "colab": {},
        "outputId": "4b3ba2d8-f550-49c8-ca5b-3e149f74e3d5"
      },
      "source": [
        "tup1 "
      ],
      "execution_count": 0,
      "outputs": [
        {
          "output_type": "execute_result",
          "data": {
            "text/plain": [
              "('physics', 'chemistry', 1997, 2000)"
            ]
          },
          "metadata": {
            "tags": []
          },
          "execution_count": 33
        }
      ]
    },
    {
      "cell_type": "code",
      "metadata": {
        "id": "Q-kcllmftqju",
        "colab_type": "code",
        "colab": {},
        "outputId": "71a45074-056f-4285-907c-835c22e38537"
      },
      "source": [
        "tup1[2] #selecting element of tuple at index 2 "
      ],
      "execution_count": 0,
      "outputs": [
        {
          "output_type": "execute_result",
          "data": {
            "text/plain": [
              "1997"
            ]
          },
          "metadata": {
            "tags": []
          },
          "execution_count": 34
        }
      ]
    },
    {
      "cell_type": "markdown",
      "metadata": {
        "id": "dLwX0oHOtqjy",
        "colab_type": "text"
      },
      "source": [
        "#### Selecting multiple value \n",
        "\n",
        "tuple_name \\[ Start_index : End_index-1 ]\n",
        "\n",
        "i.e. from index 1 to 3, it starts from index 1 and end at last range-1  "
      ]
    },
    {
      "cell_type": "code",
      "metadata": {
        "id": "M2wl0We5tqj0",
        "colab_type": "code",
        "colab": {},
        "outputId": "35704ee2-1f6b-46c6-9fc2-6c638b6afe0f"
      },
      "source": [
        "tup3 #new tuple"
      ],
      "execution_count": 0,
      "outputs": [
        {
          "output_type": "execute_result",
          "data": {
            "text/plain": [
              "('a', 'b', 'c', 'd')"
            ]
          },
          "metadata": {
            "tags": []
          },
          "execution_count": 35
        }
      ]
    },
    {
      "cell_type": "code",
      "metadata": {
        "id": "WS53topjtqj6",
        "colab_type": "code",
        "colab": {},
        "outputId": "01d93155-b739-446a-9641-b5970a932741"
      },
      "source": [
        "tup3[1:3] #selecting new range of tuple"
      ],
      "execution_count": 0,
      "outputs": [
        {
          "output_type": "execute_result",
          "data": {
            "text/plain": [
              "('b', 'c')"
            ]
          },
          "metadata": {
            "tags": []
          },
          "execution_count": 36
        }
      ]
    },
    {
      "cell_type": "markdown",
      "metadata": {
        "id": "dM5YpeXvtqkC",
        "colab_type": "text"
      },
      "source": [
        "### Updating Tuples\n",
        "Tuples are immutable which means you cannot update or change the values of tuple elements"
      ]
    },
    {
      "cell_type": "code",
      "metadata": {
        "id": "XyHeitXdtqkE",
        "colab_type": "code",
        "colab": {}
      },
      "source": [
        ""
      ],
      "execution_count": 0,
      "outputs": []
    },
    {
      "cell_type": "markdown",
      "metadata": {
        "id": "YkGCe3cktqkI",
        "colab_type": "text"
      },
      "source": [
        "### Delete Tuple Elements\n",
        "Removing individual tuple elements is not possible.\n",
        "\n",
        "But we can delete a comple tuple by using **del**"
      ]
    },
    {
      "cell_type": "code",
      "metadata": {
        "id": "Zm2JURjNtqkK",
        "colab_type": "code",
        "colab": {},
        "outputId": "58b1954c-a782-4b1e-ef01-0442ce7c4b79"
      },
      "source": [
        "tup3 #new tuple"
      ],
      "execution_count": 0,
      "outputs": [
        {
          "output_type": "execute_result",
          "data": {
            "text/plain": [
              "('a', 'b', 'c', 'd')"
            ]
          },
          "metadata": {
            "tags": []
          },
          "execution_count": 38
        }
      ]
    },
    {
      "cell_type": "code",
      "metadata": {
        "id": "LLhzOpyStqkO",
        "colab_type": "code",
        "colab": {}
      },
      "source": [
        "del tup3 #del is a keyword deleting tuple"
      ],
      "execution_count": 0,
      "outputs": []
    },
    {
      "cell_type": "code",
      "metadata": {
        "id": "fnXad17vtqkS",
        "colab_type": "code",
        "colab": {},
        "outputId": "21c6a75b-443e-4e5b-cc3b-4f58f7b4aca0"
      },
      "source": [
        "tup3 #tuple is deleted "
      ],
      "execution_count": 0,
      "outputs": [
        {
          "output_type": "error",
          "ename": "NameError",
          "evalue": "name 'tup3' is not defined",
          "traceback": [
            "\u001b[0;31m---------------------------------------------------------------------------\u001b[0m",
            "\u001b[0;31mNameError\u001b[0m                                 Traceback (most recent call last)",
            "\u001b[0;32m<ipython-input-41-f484f3ced80d>\u001b[0m in \u001b[0;36m<module>\u001b[0;34m\u001b[0m\n\u001b[0;32m----> 1\u001b[0;31m \u001b[0mtup3\u001b[0m\u001b[0;34m\u001b[0m\u001b[0;34m\u001b[0m\u001b[0m\n\u001b[0m",
            "\u001b[0;31mNameError\u001b[0m: name 'tup3' is not defined"
          ]
        }
      ]
    },
    {
      "cell_type": "markdown",
      "metadata": {
        "id": "X904Zeu-tqka",
        "colab_type": "text"
      },
      "source": [
        "### Basic Tuples Operations\n"
      ]
    },
    {
      "cell_type": "markdown",
      "metadata": {
        "id": "Pu_QUPkStqke",
        "colab_type": "text"
      },
      "source": [
        "If we multiply any tuple with any number it repeats all the elements in tuple "
      ]
    },
    {
      "cell_type": "code",
      "metadata": {
        "id": "ydZe6cUXtqkg",
        "colab_type": "code",
        "colab": {}
      },
      "source": [
        "tup1 = (\"Hi\",2) #new tuple"
      ],
      "execution_count": 0,
      "outputs": []
    },
    {
      "cell_type": "code",
      "metadata": {
        "id": "SyZUHdb1tqkk",
        "colab_type": "code",
        "colab": {},
        "outputId": "d4163275-a295-4f0f-9974-60eb61091dfc"
      },
      "source": [
        "tup1*3 #repeatation of tuple"
      ],
      "execution_count": 0,
      "outputs": [
        {
          "output_type": "execute_result",
          "data": {
            "text/plain": [
              "('Hi', 2, 'Hi', 2, 'Hi', 2)"
            ]
          },
          "metadata": {
            "tags": []
          },
          "execution_count": 60
        }
      ]
    },
    {
      "cell_type": "code",
      "metadata": {
        "id": "R1HczC1_tqkp",
        "colab_type": "code",
        "colab": {}
      },
      "source": [
        "tup2 = (3,2) #new tuple"
      ],
      "execution_count": 0,
      "outputs": []
    },
    {
      "cell_type": "code",
      "metadata": {
        "id": "y56p7a6Etqkv",
        "colab_type": "code",
        "colab": {},
        "outputId": "cc814c4c-7797-4f0f-fc90-4397a602f3bf"
      },
      "source": [
        "tup2*3 #repeatation of tuple"
      ],
      "execution_count": 0,
      "outputs": [
        {
          "output_type": "execute_result",
          "data": {
            "text/plain": [
              "(3, 2, 3, 2, 3, 2)"
            ]
          },
          "metadata": {
            "tags": []
          },
          "execution_count": 65
        }
      ]
    },
    {
      "cell_type": "code",
      "metadata": {
        "id": "zjkMnDKntqkz",
        "colab_type": "code",
        "colab": {},
        "outputId": "389c3d54-f776-4833-e73d-adf8aa0ae3ef"
      },
      "source": [
        "(5)*2 # this is mathematics problem it means 5 * 2 "
      ],
      "execution_count": 0,
      "outputs": [
        {
          "output_type": "execute_result",
          "data": {
            "text/plain": [
              "10"
            ]
          },
          "metadata": {
            "tags": []
          },
          "execution_count": 78
        }
      ]
    },
    {
      "cell_type": "code",
      "metadata": {
        "id": "iBiZ4M-vtqk3",
        "colab_type": "code",
        "colab": {},
        "outputId": "2c41ef3d-a787-4a73-bac6-c45954038bdc"
      },
      "source": [
        "(5,)*2 # this is tuple"
      ],
      "execution_count": 0,
      "outputs": [
        {
          "output_type": "execute_result",
          "data": {
            "text/plain": [
              "(5, 5)"
            ]
          },
          "metadata": {
            "tags": []
          },
          "execution_count": 79
        }
      ]
    },
    {
      "cell_type": "markdown",
      "metadata": {
        "id": "JYWKGgDutqk8",
        "colab_type": "text"
      },
      "source": [
        "If we have to check whether an element in the tuple or not we simply use **in**"
      ]
    },
    {
      "cell_type": "code",
      "metadata": {
        "id": "oO3gXenMtqk9",
        "colab_type": "code",
        "colab": {}
      },
      "source": [
        "tup3 = (1,2,3) #new tuple"
      ],
      "execution_count": 0,
      "outputs": []
    },
    {
      "cell_type": "code",
      "metadata": {
        "id": "W7oNebH0tqlB",
        "colab_type": "code",
        "colab": {},
        "outputId": "a3151f67-ced1-4dbf-8a0f-a69bc769321d"
      },
      "source": [
        "2 in tup3 #cheching if number 2 is in the tuple or not, it returns boolen value"
      ],
      "execution_count": 0,
      "outputs": [
        {
          "output_type": "execute_result",
          "data": {
            "text/plain": [
              "True"
            ]
          },
          "metadata": {
            "tags": []
          },
          "execution_count": 67
        }
      ]
    },
    {
      "cell_type": "markdown",
      "metadata": {
        "id": "yTs3VFFgtqlF",
        "colab_type": "text"
      },
      "source": [
        "If we have to merge or concatinate 2 tuple we simply use **+** operator "
      ]
    },
    {
      "cell_type": "code",
      "metadata": {
        "id": "4H5PW72ptqlH",
        "colab_type": "code",
        "colab": {}
      },
      "source": [
        "tup4  = (1, 2, 3) #new tuple"
      ],
      "execution_count": 0,
      "outputs": []
    },
    {
      "cell_type": "code",
      "metadata": {
        "id": "oc3KpwzPtqlK",
        "colab_type": "code",
        "colab": {}
      },
      "source": [
        "tup5 =  (4, 5, 6) #new tuple"
      ],
      "execution_count": 0,
      "outputs": []
    },
    {
      "cell_type": "code",
      "metadata": {
        "id": "H6tN3h1RtqlO",
        "colab_type": "code",
        "colab": {},
        "outputId": "1f65ef71-752f-4a4d-c76e-671accf098fa"
      },
      "source": [
        "tup4 + tup5 #concating new tuple"
      ],
      "execution_count": 0,
      "outputs": [
        {
          "output_type": "execute_result",
          "data": {
            "text/plain": [
              "(1, 2, 3, 4, 5, 6)"
            ]
          },
          "metadata": {
            "tags": []
          },
          "execution_count": 71
        }
      ]
    },
    {
      "cell_type": "markdown",
      "metadata": {
        "id": "VOsdiH2ftqlS",
        "colab_type": "text"
      },
      "source": [
        "If we have to find the length of a tuple we use **len( )**"
      ]
    },
    {
      "cell_type": "code",
      "metadata": {
        "id": "R_tQ-VkRtqlT",
        "colab_type": "code",
        "colab": {}
      },
      "source": [
        "tup6 = (1,2,3,4) #new tuple"
      ],
      "execution_count": 0,
      "outputs": []
    },
    {
      "cell_type": "code",
      "metadata": {
        "id": "VpCqJPmutqlb",
        "colab_type": "code",
        "colab": {},
        "outputId": "28f6f651-9924-4aae-834f-b2ee2b6dd183"
      },
      "source": [
        "len(tup6) #finding length of the tuple"
      ],
      "execution_count": 0,
      "outputs": [
        {
          "output_type": "execute_result",
          "data": {
            "text/plain": [
              "4"
            ]
          },
          "metadata": {
            "tags": []
          },
          "execution_count": 73
        }
      ]
    },
    {
      "cell_type": "markdown",
      "metadata": {
        "id": "xCJV2uAJtqlf",
        "colab_type": "text"
      },
      "source": [
        "## Dictionary\n",
        "In Dictionary each key is separated from its value by a colon ( : ), the items are separated by commas, and the whole thing is enclosed in curly braces. An empty dictionary without any items is written with just two curly braces, like this: { }."
      ]
    },
    {
      "cell_type": "code",
      "metadata": {
        "id": "PeqyaVGdtqlj",
        "colab_type": "code",
        "colab": {}
      },
      "source": [
        "marks_dict = {\"maths\":34,\"chemistry\":36,\"physics\":32} #initilising Dictinory {Key:Value}"
      ],
      "execution_count": 0,
      "outputs": []
    },
    {
      "cell_type": "code",
      "metadata": {
        "id": "xrFg49Agtqlq",
        "colab_type": "code",
        "colab": {},
        "outputId": "e719b198-0deb-4d11-ca02-35b0934034a3"
      },
      "source": [
        "print(marks_dict) #printing dict"
      ],
      "execution_count": 0,
      "outputs": [
        {
          "output_type": "stream",
          "text": [
            "{'maths': 34, 'chemistry': 36, 'physics': 32}\n"
          ],
          "name": "stdout"
        }
      ]
    },
    {
      "cell_type": "markdown",
      "metadata": {
        "id": "jkcZ2Sc3tqlu",
        "colab_type": "text"
      },
      "source": [
        "### Accessing Values in Dictionary"
      ]
    },
    {
      "cell_type": "markdown",
      "metadata": {
        "id": "tH37gJxytqlw",
        "colab_type": "text"
      },
      "source": [
        "To access dictionary elements, you can use the familiar square brackets along with the key to obtain its value."
      ]
    },
    {
      "cell_type": "code",
      "metadata": {
        "id": "v3Kc676Itqlx",
        "colab_type": "code",
        "colab": {}
      },
      "source": [
        "dict_student_detail = {'Name': 'Sagar', 'Age': 7, 'Class': 'First'} #new dict"
      ],
      "execution_count": 0,
      "outputs": []
    },
    {
      "cell_type": "code",
      "metadata": {
        "id": "maLZKrU_tql0",
        "colab_type": "code",
        "colab": {},
        "outputId": "077d8508-9be9-42c0-ddc2-3491f4d1008f"
      },
      "source": [
        "print (\"dict_student_detail['Name']: \", dict_student_detail['Name']) #printing single key walue "
      ],
      "execution_count": 0,
      "outputs": [
        {
          "output_type": "stream",
          "text": [
            "dict_student_detail['Name']:  Sagar\n"
          ],
          "name": "stdout"
        }
      ]
    },
    {
      "cell_type": "code",
      "metadata": {
        "id": "kIecnCvgtql5",
        "colab_type": "code",
        "colab": {},
        "outputId": "18e4faec-13b9-4b7f-cabf-cc992181720d"
      },
      "source": [
        "print (\"dict_student_detail['Age']: \", dict_student_detail['Age']) #printing single key walue "
      ],
      "execution_count": 0,
      "outputs": [
        {
          "output_type": "stream",
          "text": [
            "dict_student_detail['Age']:  7\n"
          ],
          "name": "stdout"
        }
      ]
    },
    {
      "cell_type": "markdown",
      "metadata": {
        "id": "P7HZwHBEtqmA",
        "colab_type": "text"
      },
      "source": [
        "### Updating Dictionary"
      ]
    },
    {
      "cell_type": "markdown",
      "metadata": {
        "id": "Cm74iN3LtqmB",
        "colab_type": "text"
      },
      "source": [
        "We can update a dictionary by adding a new entry or a key-value pair, modifying an existing entry, or deleting an existing entry"
      ]
    },
    {
      "cell_type": "code",
      "metadata": {
        "id": "8LPyf1XEtqmD",
        "colab_type": "code",
        "colab": {}
      },
      "source": [
        "dict_student_detail = {'Name': 'Sagar', 'Age': 7, 'Class': 'First'} #new dict\n",
        "dict_student_detail['Age'] = 8; # update existing entry"
      ],
      "execution_count": 0,
      "outputs": []
    },
    {
      "cell_type": "code",
      "metadata": {
        "id": "Zj-Fqos7tqmG",
        "colab_type": "code",
        "colab": {},
        "outputId": "1af85638-b993-4d1d-e427-af588fda157d"
      },
      "source": [
        "dict_student_detail #after updating"
      ],
      "execution_count": 0,
      "outputs": [
        {
          "output_type": "execute_result",
          "data": {
            "text/plain": [
              "{'Name': 'Sagar', 'Age': 8, 'Class': 'First'}"
            ]
          },
          "metadata": {
            "tags": []
          },
          "execution_count": 100
        }
      ]
    },
    {
      "cell_type": "code",
      "metadata": {
        "id": "M_In4-qDtqmK",
        "colab_type": "code",
        "colab": {}
      },
      "source": [
        "dict_student_detail['School'] = \"K.V.\"; # Add new entry"
      ],
      "execution_count": 0,
      "outputs": []
    },
    {
      "cell_type": "code",
      "metadata": {
        "id": "6VXKxWXwtqmN",
        "colab_type": "code",
        "colab": {},
        "outputId": "8bfdd340-3b8e-4b3c-bfab-f831b3d20ed4"
      },
      "source": [
        "dict_student_detail #after adding"
      ],
      "execution_count": 0,
      "outputs": [
        {
          "output_type": "execute_result",
          "data": {
            "text/plain": [
              "{'Name': 'Sagar', 'Age': 8, 'Class': 'First', 'School': 'K.V.'}"
            ]
          },
          "metadata": {
            "tags": []
          },
          "execution_count": 102
        }
      ]
    },
    {
      "cell_type": "markdown",
      "metadata": {
        "id": "ZLhKauantqmS",
        "colab_type": "text"
      },
      "source": [
        "### Delete Dictionary Elements"
      ]
    },
    {
      "cell_type": "markdown",
      "metadata": {
        "id": "DmcRqedptqmT",
        "colab_type": "text"
      },
      "source": [
        "we can either remove individual dictionary elements or clear the entire contents of a dictionary. You can also delete entire dictionary in a single operation."
      ]
    },
    {
      "cell_type": "markdown",
      "metadata": {
        "id": "dBmMgshVtqmU",
        "colab_type": "text"
      },
      "source": [
        "**remove individual dictionary elements**"
      ]
    },
    {
      "cell_type": "code",
      "metadata": {
        "id": "T0yJyNcWtqmW",
        "colab_type": "code",
        "colab": {}
      },
      "source": [
        "dict1 = {'Name': 'Neji', 'Age': 7, 'Class': 'First'} #new dict\n",
        "del dict1['Name'] #deleting key with name \"name\""
      ],
      "execution_count": 0,
      "outputs": []
    },
    {
      "cell_type": "code",
      "metadata": {
        "id": "o5Oe7Tjgtqma",
        "colab_type": "code",
        "colab": {},
        "outputId": "b2f9f2da-3de2-4235-ba7c-aeaa16fcd420"
      },
      "source": [
        "dict1 #after deleting key "
      ],
      "execution_count": 0,
      "outputs": [
        {
          "output_type": "execute_result",
          "data": {
            "text/plain": [
              "{'Age': 7, 'Class': 'First'}"
            ]
          },
          "metadata": {
            "tags": []
          },
          "execution_count": 142
        }
      ]
    },
    {
      "cell_type": "markdown",
      "metadata": {
        "id": "yjZj4QNBtqmf",
        "colab_type": "text"
      },
      "source": [
        "**remove all entries in dict**"
      ]
    },
    {
      "cell_type": "code",
      "metadata": {
        "id": "EW1z3pCltqmg",
        "colab_type": "code",
        "colab": {}
      },
      "source": [
        "dict1.clear() #cleaning all data in dict"
      ],
      "execution_count": 0,
      "outputs": []
    },
    {
      "cell_type": "code",
      "metadata": {
        "id": "vuCo6kn6tqmj",
        "colab_type": "code",
        "colab": {},
        "outputId": "bed13ea8-a743-4475-d676-fa5d1154f0db"
      },
      "source": [
        "dict1 #after clearing all the data "
      ],
      "execution_count": 0,
      "outputs": [
        {
          "output_type": "execute_result",
          "data": {
            "text/plain": [
              "{}"
            ]
          },
          "metadata": {
            "tags": []
          },
          "execution_count": 144
        }
      ]
    },
    {
      "cell_type": "markdown",
      "metadata": {
        "id": "sRPPkbH4tqmn",
        "colab_type": "text"
      },
      "source": [
        "**delete entire dictionary**"
      ]
    },
    {
      "cell_type": "code",
      "metadata": {
        "id": "MHIN2gOttqmo",
        "colab_type": "code",
        "colab": {}
      },
      "source": [
        "del dict1 #deleting dict"
      ],
      "execution_count": 0,
      "outputs": []
    },
    {
      "cell_type": "code",
      "metadata": {
        "id": "gvlyMv_qtqms",
        "colab_type": "code",
        "colab": {},
        "outputId": "e80775a3-ad8d-46da-c040-3ce8c83f9c6c"
      },
      "source": [
        "dict1 #after deleting"
      ],
      "execution_count": 0,
      "outputs": [
        {
          "output_type": "error",
          "ename": "NameError",
          "evalue": "name 'dict1' is not defined",
          "traceback": [
            "\u001b[0;31m---------------------------------------------------------------------------\u001b[0m",
            "\u001b[0;31mNameError\u001b[0m                                 Traceback (most recent call last)",
            "\u001b[0;32m<ipython-input-108-e36219336d90>\u001b[0m in \u001b[0;36m<module>\u001b[0;34m\u001b[0m\n\u001b[0;32m----> 1\u001b[0;31m \u001b[0mdict1\u001b[0m\u001b[0;34m\u001b[0m\u001b[0;34m\u001b[0m\u001b[0m\n\u001b[0m",
            "\u001b[0;31mNameError\u001b[0m: name 'dict1' is not defined"
          ]
        }
      ]
    },
    {
      "cell_type": "markdown",
      "metadata": {
        "id": "rA0Foi8ktqmv",
        "colab_type": "text"
      },
      "source": [
        "### properties of Dictionary"
      ]
    },
    {
      "cell_type": "code",
      "metadata": {
        "id": "xP0Zk4gStqmw",
        "colab_type": "code",
        "colab": {}
      },
      "source": [
        "anime = {'Name': 'Naruto', 'Age': 17, 'Class': 'Chunin'} #new dict "
      ],
      "execution_count": 0,
      "outputs": []
    },
    {
      "cell_type": "markdown",
      "metadata": {
        "id": "9bF3QYVttqm1",
        "colab_type": "text"
      },
      "source": [
        "**keys of dict**"
      ]
    },
    {
      "cell_type": "code",
      "metadata": {
        "id": "RaANjwa9tqm8",
        "colab_type": "code",
        "colab": {},
        "outputId": "6b4e6b25-5024-4dd0-e32a-85c28a50ee5a"
      },
      "source": [
        "anime.keys() #dict keys"
      ],
      "execution_count": 0,
      "outputs": [
        {
          "output_type": "execute_result",
          "data": {
            "text/plain": [
              "dict_keys(['Name', 'Age', 'Class'])"
            ]
          },
          "metadata": {
            "tags": []
          },
          "execution_count": 110
        }
      ]
    },
    {
      "cell_type": "code",
      "metadata": {
        "id": "FrPVDvlhtqnA",
        "colab_type": "code",
        "colab": {},
        "outputId": "e634cc30-91a4-4027-95cd-c3af2d5eb871"
      },
      "source": [
        "list(anime.keys()) #converting it into list"
      ],
      "execution_count": 0,
      "outputs": [
        {
          "output_type": "execute_result",
          "data": {
            "text/plain": [
              "['Name', 'Age', 'Class']"
            ]
          },
          "metadata": {
            "tags": []
          },
          "execution_count": 111
        }
      ]
    },
    {
      "cell_type": "markdown",
      "metadata": {
        "id": "LZfz4EvGtqnF",
        "colab_type": "text"
      },
      "source": [
        "**Values of Dict**"
      ]
    },
    {
      "cell_type": "code",
      "metadata": {
        "id": "Sf3KxffotqnG",
        "colab_type": "code",
        "colab": {},
        "outputId": "edf2ee66-c3ce-49bc-abf8-aab95992881b"
      },
      "source": [
        "anime.values() #dict values"
      ],
      "execution_count": 0,
      "outputs": [
        {
          "output_type": "execute_result",
          "data": {
            "text/plain": [
              "dict_values(['Naruto', 17, 'Chunin'])"
            ]
          },
          "metadata": {
            "tags": []
          },
          "execution_count": 112
        }
      ]
    },
    {
      "cell_type": "code",
      "metadata": {
        "id": "vEz5FsuetqnK",
        "colab_type": "code",
        "colab": {},
        "outputId": "b89ea2e4-f821-4646-9ebc-e016c37c4d0c"
      },
      "source": [
        "list(anime.values())  #converting it into list"
      ],
      "execution_count": 0,
      "outputs": [
        {
          "output_type": "execute_result",
          "data": {
            "text/plain": [
              "['Naruto', 17, 'Chunin']"
            ]
          },
          "metadata": {
            "tags": []
          },
          "execution_count": 113
        }
      ]
    },
    {
      "cell_type": "markdown",
      "metadata": {
        "id": "xRzOYTOPtqnT",
        "colab_type": "text"
      },
      "source": [
        "**keys and values of Dict**"
      ]
    },
    {
      "cell_type": "code",
      "metadata": {
        "id": "7RQNUbu4tqnV",
        "colab_type": "code",
        "colab": {},
        "outputId": "f435f609-6b4d-4d90-8429-29fb901e0f66"
      },
      "source": [
        "anime.items() #dict items"
      ],
      "execution_count": 0,
      "outputs": [
        {
          "output_type": "execute_result",
          "data": {
            "text/plain": [
              "dict_items([('Name', 'Naruto'), ('Age', 17), ('Class', 'Chunin')])"
            ]
          },
          "metadata": {
            "tags": []
          },
          "execution_count": 114
        }
      ]
    },
    {
      "cell_type": "code",
      "metadata": {
        "id": "W2IbyMRrtqnc",
        "colab_type": "code",
        "colab": {},
        "outputId": "c2daa20d-b65b-4cc2-ec8c-2408d1f12313"
      },
      "source": [
        "list(anime.items())  #converting it into list"
      ],
      "execution_count": 0,
      "outputs": [
        {
          "output_type": "execute_result",
          "data": {
            "text/plain": [
              "[('Name', 'Naruto'), ('Age', 17), ('Class', 'Chunin')]"
            ]
          },
          "metadata": {
            "tags": []
          },
          "execution_count": 115
        }
      ]
    },
    {
      "cell_type": "markdown",
      "metadata": {
        "id": "slfSlGkttqnj",
        "colab_type": "text"
      },
      "source": [
        "### OrderedDict"
      ]
    },
    {
      "cell_type": "markdown",
      "metadata": {
        "id": "FudpLksatqnk",
        "colab_type": "text"
      },
      "source": [
        "Usually dictionary doesn't follow order but we can make dictionary that can follow the order"
      ]
    },
    {
      "cell_type": "code",
      "metadata": {
        "id": "02bxvirstqnm",
        "colab_type": "code",
        "colab": {}
      },
      "source": [
        "# import collections\n",
        "\n",
        "# print ('Regular dictionary:')\n",
        "# d = {}\n",
        "# d['a'] = 'A'\n",
        "# d['b'] = 'B'\n",
        "# d['c'] = 'C'\n",
        "# d['d'] = 'D'\n",
        "# d['e'] = 'E'\n",
        "\n",
        "# for k, v in d.items():\n",
        "#     print (k, v)\n"
      ],
      "execution_count": 0,
      "outputs": []
    },
    {
      "cell_type": "code",
      "metadata": {
        "id": "VMU0mXJ4tqns",
        "colab_type": "code",
        "colab": {},
        "outputId": "f6978237-876d-439f-cc79-093b985ce717"
      },
      "source": [
        "import collections  #this lib has function OrderedDict that make dict in an order \n",
        "print ('\\nOrderedDict:')\n",
        "d = collections.OrderedDict() #defining order dict \n",
        "d['a'] = 'A' #assigning values\n",
        "d['b'] = 'B'\n",
        "d['c'] = 'C'\n",
        "d['d'] = 'D'\n",
        "d['e'] = 'E'\n",
        "\n",
        "for k, v in d.items():\n",
        "    print (\"Keys: \",k,\"  Values: \", v) #print keys and values "
      ],
      "execution_count": 0,
      "outputs": [
        {
          "output_type": "stream",
          "text": [
            "\n",
            "OrderedDict:\n",
            "Keys:  a   Values:  A\n",
            "Keys:  b   Values:  B\n",
            "Keys:  c   Values:  C\n",
            "Keys:  d   Values:  D\n",
            "Keys:  e   Values:  E\n"
          ],
          "name": "stdout"
        }
      ]
    },
    {
      "cell_type": "markdown",
      "metadata": {
        "id": "kD1GyomGtqnz",
        "colab_type": "text"
      },
      "source": [
        "## Sets\n",
        "The sets in python are typically used for mathematical operations like union, intersection, difference and complement etc. We can create a set, access it’s elements and carry out these mathematical operations\n",
        "\n",
        "### Creating a set\n",
        "A set is created by using the **set( )** function or placing all the elements within a pair of curly braces."
      ]
    },
    {
      "cell_type": "code",
      "metadata": {
        "id": "rKBXvwSQtqn0",
        "colab_type": "code",
        "colab": {},
        "outputId": "ec98da73-c50f-4e06-91cd-183589d4f595"
      },
      "source": [
        "Days=set([\"Mon\",\"Tue\",\"Wed\",\"Thu\",\"Fri\",\"Sat\",\"Sun\"]) #making set\n",
        "print(Days) #print set"
      ],
      "execution_count": 0,
      "outputs": [
        {
          "output_type": "stream",
          "text": [
            "{'Sun', 'Fri', 'Thu', 'Tue', 'Sat', 'Mon', 'Wed'}\n"
          ],
          "name": "stdout"
        }
      ]
    },
    {
      "cell_type": "code",
      "metadata": {
        "id": "m_IoiTa6tqn6",
        "colab_type": "code",
        "colab": {}
      },
      "source": [
        "Months={\"Jan\",\"Feb\",\"Mar\"} #defining set"
      ],
      "execution_count": 0,
      "outputs": []
    },
    {
      "cell_type": "code",
      "metadata": {
        "id": "D7VEpervtqn_",
        "colab_type": "code",
        "colab": {},
        "outputId": "3b4b5beb-4c7c-48cf-8998-19b42f7711e0"
      },
      "source": [
        "print(Months)  #print(Months)"
      ],
      "execution_count": 0,
      "outputs": [
        {
          "output_type": "stream",
          "text": [
            "{'Feb', 'Jan', 'Mar'}\n"
          ],
          "name": "stdout"
        }
      ]
    },
    {
      "cell_type": "markdown",
      "metadata": {
        "id": "pYJsNeg_tqoC",
        "colab_type": "text"
      },
      "source": [
        "### Accessing Values in a Set\n",
        "We cannot access individual values in a set. We can only access all the elements together as shown above. But we can also get a list of individual elements by looping through the set."
      ]
    },
    {
      "cell_type": "code",
      "metadata": {
        "id": "mmUQMn1XtqoD",
        "colab_type": "code",
        "colab": {},
        "outputId": "816f236c-8314-42f9-c43f-e0503dc6d5d6"
      },
      "source": [
        "Days=set([\"Mon\",\"Tue\",\"Wed\",\"Thu\",\"Fri\",\"Sat\",\"Sun\"])\n",
        " \n",
        "for d in Days:\n",
        "    print(d)"
      ],
      "execution_count": 0,
      "outputs": [
        {
          "output_type": "stream",
          "text": [
            "Sun\n",
            "Fri\n",
            "Thu\n",
            "Tue\n",
            "Sat\n",
            "Mon\n",
            "Wed\n"
          ],
          "name": "stdout"
        }
      ]
    },
    {
      "cell_type": "markdown",
      "metadata": {
        "id": "YenCnfVEtqoF",
        "colab_type": "text"
      },
      "source": [
        "### Adding Items to a Set\n",
        "We can add elements to a set by using **add( )** method. Again as discussed there is no specific index attached to the newly added element."
      ]
    },
    {
      "cell_type": "code",
      "metadata": {
        "id": "gHkUuaE6tqoG",
        "colab_type": "code",
        "colab": {},
        "outputId": "6e0d9177-78a5-4e3d-c474-1121789aab4a"
      },
      "source": [
        "Days=set([\"Mon\",\"Tue\",\"Wed\",\"Thu\",\"Fri\",\"Sat\"]) #initilising set \n",
        " \n",
        "Days.add(\"Sun\") #adding new value in set \n",
        "print(Days)"
      ],
      "execution_count": 0,
      "outputs": [
        {
          "output_type": "stream",
          "text": [
            "{'Sun', 'Fri', 'Thu', 'Tue', 'Sat', 'Mon', 'Wed'}\n"
          ],
          "name": "stdout"
        }
      ]
    },
    {
      "cell_type": "markdown",
      "metadata": {
        "id": "Twt0deU8tqoJ",
        "colab_type": "text"
      },
      "source": [
        "### Removing Item from a Set\n",
        "We can remove elements from a set by using **discard( )** method. Again as discussed there is no specific index attached to the newly added element."
      ]
    },
    {
      "cell_type": "code",
      "metadata": {
        "id": "EL8jUeVPtqoK",
        "colab_type": "code",
        "colab": {},
        "outputId": "1d7b031e-007b-416f-fd7f-2bb5b685eb38"
      },
      "source": [
        "Days=set([\"Mon\",\"Tue\",\"Wed\",\"Thu\",\"Fri\",\"Sat\"]) #initilising set \n",
        " \n",
        "Days.discard(\"Sun\") #discarding \"Sun\"\n",
        "print(Days)"
      ],
      "execution_count": 0,
      "outputs": [
        {
          "output_type": "stream",
          "text": [
            "{'Fri', 'Thu', 'Tue', 'Sat', 'Mon', 'Wed'}\n"
          ],
          "name": "stdout"
        }
      ]
    },
    {
      "cell_type": "markdown",
      "metadata": {
        "id": "debRC6-KtqoM",
        "colab_type": "text"
      },
      "source": [
        "### Union of Sets\n",
        "The union operation on two sets produces a new set containing all the distinct elements from both the sets. In the below example the element “Wed” is present in both the sets."
      ]
    },
    {
      "cell_type": "code",
      "metadata": {
        "id": "bgzXWA5XtqoN",
        "colab_type": "code",
        "colab": {},
        "outputId": "d6cd1889-12bd-409e-a975-1c1914dcb4da"
      },
      "source": [
        "DaysA = set([\"Mon\",\"Tue\",\"Wed\"]) #new set 1\n",
        "DaysB = set([\"Wed\",\"Thu\",\"Fri\",\"Sat\",\"Sun\"]) #new set 2\n",
        "AllDays = DaysA|DaysB #union of set\n",
        "print(AllDays) #printing \n"
      ],
      "execution_count": 0,
      "outputs": [
        {
          "output_type": "stream",
          "text": [
            "{'Sun', 'Fri', 'Thu', 'Tue', 'Sat', 'Mon', 'Wed'}\n"
          ],
          "name": "stdout"
        }
      ]
    },
    {
      "cell_type": "markdown",
      "metadata": {
        "id": "-XNtzsI7tqoP",
        "colab_type": "text"
      },
      "source": [
        "### Intersection of Sets\n",
        "The intersection operation on two sets produces a new set containing only the common elements from both the sets. In the below example the element “Wed” is present in both the sets."
      ]
    },
    {
      "cell_type": "code",
      "metadata": {
        "id": "wZRI_0V7tqoQ",
        "colab_type": "code",
        "colab": {},
        "outputId": "20f33488-afac-432f-c530-06e6c97e8560"
      },
      "source": [
        "DaysA = set([\"Mon\",\"Tue\",\"Wed\"]) #new set 1\n",
        "DaysB = set([\"Wed\",\"Thu\",\"Fri\",\"Sat\",\"Sun\"]) #new set 2\n",
        "AllDays = DaysA & DaysB #intersection \n",
        "print(AllDays) #printing"
      ],
      "execution_count": 0,
      "outputs": [
        {
          "output_type": "stream",
          "text": [
            "{'Wed'}\n"
          ],
          "name": "stdout"
        }
      ]
    },
    {
      "cell_type": "markdown",
      "metadata": {
        "id": "jDlCYnRCtqoT",
        "colab_type": "text"
      },
      "source": [
        "### Difference of Sets\n",
        "The difference operation on two sets produces a new set containing only the elements from the first set and none from the second set. In the below example the element “Wed” is present in both the sets so it will not be found in the result set."
      ]
    },
    {
      "cell_type": "code",
      "metadata": {
        "id": "129AW0wrtqoT",
        "colab_type": "code",
        "colab": {},
        "outputId": "57d08fc4-762c-4bc0-f9c6-6a5a57fece87"
      },
      "source": [
        "DaysA = set([\"Mon\",\"Tue\",\"Wed\"]) #new set 1\n",
        "DaysB = set([\"Wed\",\"Thu\",\"Fri\",\"Sat\",\"Sun\"]) #new set 2\n",
        "AllDays = DaysA - DaysB #difference \n",
        "print(AllDays) #printing"
      ],
      "execution_count": 0,
      "outputs": [
        {
          "output_type": "stream",
          "text": [
            "{'Tue', 'Mon'}\n"
          ],
          "name": "stdout"
        }
      ]
    },
    {
      "cell_type": "markdown",
      "metadata": {
        "id": "rf2qwNkItqoW",
        "colab_type": "text"
      },
      "source": [
        "### Compare Sets\n",
        "We can check if a given set is a subset or superset of another set. The result is True or False depending on the elements present in the sets."
      ]
    },
    {
      "cell_type": "code",
      "metadata": {
        "id": "piRRVe_OtqoW",
        "colab_type": "code",
        "colab": {},
        "outputId": "c6029d56-b40d-4cf4-8d7e-affcc10005c2"
      },
      "source": [
        "DaysA = set([\"Mon\",\"Tue\",\"Wed\"]) #set 1\n",
        "DaysB = set([\"Mon\",\"Tue\",\"Wed\",\"Thu\",\"Fri\",\"Sat\",\"Sun\"]) #set 2\n",
        "SubsetRes = DaysA <= DaysB #cheching subset \n",
        "print(SubsetRes) #printing result"
      ],
      "execution_count": 0,
      "outputs": [
        {
          "output_type": "stream",
          "text": [
            "True\n"
          ],
          "name": "stdout"
        }
      ]
    },
    {
      "cell_type": "code",
      "metadata": {
        "id": "fy9NNQ1xtqoZ",
        "colab_type": "code",
        "colab": {},
        "outputId": "390d860d-bcd7-4e82-d862-742cea4f883a"
      },
      "source": [
        "SupersetRes = DaysB >= DaysA #cheching subset \n",
        "print(SupersetRes) #printing result"
      ],
      "execution_count": 0,
      "outputs": [
        {
          "output_type": "stream",
          "text": [
            "True\n"
          ],
          "name": "stdout"
        }
      ]
    },
    {
      "cell_type": "code",
      "metadata": {
        "id": "Bkak7w3rtqoc",
        "colab_type": "code",
        "colab": {}
      },
      "source": [
        ""
      ],
      "execution_count": 0,
      "outputs": []
    },
    {
      "cell_type": "markdown",
      "metadata": {
        "id": "gyKgFn7Stqof",
        "colab_type": "text"
      },
      "source": [
        "### Copy\n",
        "- Shallow Copy\n",
        "- Deep Copy\n",
        "\n",
        "import copy<br/>\n",
        "copy.copy(x)<br/>\n",
        "copy.deepcopy(x)<br/>\n"
      ]
    },
    {
      "cell_type": "code",
      "metadata": {
        "id": "KiUE64jRtqog",
        "colab_type": "code",
        "colab": {},
        "outputId": "46467655-6978-4372-e218-b004854961bc"
      },
      "source": [
        "old_list = [[1, 2, 3], [4, 5, 6], [7, 8, 9]]\n",
        "new_list = old_list\n",
        "\n",
        "print(\"Old list:\", old_list)\n",
        "print(\"New list:\", new_list)"
      ],
      "execution_count": 0,
      "outputs": [
        {
          "output_type": "stream",
          "text": [
            "Old list: [[1, 2, 3], [4, 5, 6], [7, 8, 9]]\n",
            "New list: [[1, 2, 3], [4, 5, 6], [7, 8, 9]]\n"
          ],
          "name": "stdout"
        }
      ]
    },
    {
      "cell_type": "code",
      "metadata": {
        "id": "iCwzp9CQtqoj",
        "colab_type": "code",
        "colab": {},
        "outputId": "c4b3b5b5-d0db-46f0-808f-77988df80298"
      },
      "source": [
        "old_list.append([4, 4, 4])\n",
        "print(\"Old list:\", old_list)\n",
        "print(\"New list:\", new_list)"
      ],
      "execution_count": 0,
      "outputs": [
        {
          "output_type": "stream",
          "text": [
            "Old list: [[1, 2, 3], [4, 5, 6], [7, 8, 9], [4, 4, 4]]\n",
            "New list: [[1, 2, 3], [4, 5, 6], [7, 8, 9], [4, 4, 4]]\n"
          ],
          "name": "stdout"
        }
      ]
    },
    {
      "cell_type": "code",
      "metadata": {
        "id": "LiqmBdsbtqom",
        "colab_type": "code",
        "colab": {},
        "outputId": "27b31726-001b-4660-dfe7-c20c322452aa"
      },
      "source": [
        "id(new_list)"
      ],
      "execution_count": 0,
      "outputs": [
        {
          "output_type": "execute_result",
          "data": {
            "text/plain": [
              "4478205000"
            ]
          },
          "metadata": {
            "tags": []
          },
          "execution_count": 47
        }
      ]
    },
    {
      "cell_type": "code",
      "metadata": {
        "id": "WkdKJ-vhtqoo",
        "colab_type": "code",
        "colab": {},
        "outputId": "bbc5bad3-26b6-4bb5-82f2-5a1c78cb317a"
      },
      "source": [
        "id(old_list)"
      ],
      "execution_count": 0,
      "outputs": [
        {
          "output_type": "execute_result",
          "data": {
            "text/plain": [
              "4478205000"
            ]
          },
          "metadata": {
            "tags": []
          },
          "execution_count": 48
        }
      ]
    },
    {
      "cell_type": "markdown",
      "metadata": {
        "id": "Td46kHKStqor",
        "colab_type": "text"
      },
      "source": [
        "#### Shallow Copy"
      ]
    },
    {
      "cell_type": "code",
      "metadata": {
        "id": "Q5zu41pftqos",
        "colab_type": "code",
        "colab": {},
        "outputId": "155f3c3c-3237-4929-e84a-2ad733803739"
      },
      "source": [
        "import copy\n",
        "\n",
        "old_list = [[1, 2, 3], [4, 5, 6], [7, 8, 9]]\n",
        "new_list = copy.copy(old_list)\n",
        "\n",
        "print(\"Old list:\", old_list)\n",
        "print(\"New list:\", new_list)"
      ],
      "execution_count": 0,
      "outputs": [
        {
          "output_type": "stream",
          "text": [
            "Old list: [[1, 2, 3], [4, 5, 6], [7, 8, 9]]\n",
            "New list: [[1, 2, 3], [4, 5, 6], [7, 8, 9]]\n"
          ],
          "name": "stdout"
        }
      ]
    },
    {
      "cell_type": "code",
      "metadata": {
        "id": "8WPefhL0tqox",
        "colab_type": "code",
        "colab": {},
        "outputId": "2fb7c0a7-3b05-4777-cf44-61acc015c775"
      },
      "source": [
        "old_list = [[1, 1, 1], [2, 2, 2], [3, 3, 3]]\n",
        "new_list = copy.copy(old_list)\n",
        "\n",
        "old_list.append([4, 4, 4])\n",
        "\n",
        "print(\"Old list:\", old_list)\n",
        "print(\"New list:\", new_list)"
      ],
      "execution_count": 0,
      "outputs": [
        {
          "output_type": "stream",
          "text": [
            "Old list: [[1, 1, 1], [2, 2, 2], [3, 3, 3], [4, 4, 4]]\n",
            "New list: [[1, 1, 1], [2, 2, 2], [3, 3, 3]]\n"
          ],
          "name": "stdout"
        }
      ]
    },
    {
      "cell_type": "code",
      "metadata": {
        "id": "yr86oMCJtqo0",
        "colab_type": "code",
        "colab": {},
        "outputId": "d1d8b2ec-5ce7-4045-f64c-efd80cf960d2"
      },
      "source": [
        "old_list = [[1, 1, 1], [2, 2, 2], [3, 3, 3]]\n",
        "new_list = copy.copy(old_list)\n",
        "\n",
        "old_list[1][1] = 'AA'\n",
        "\n",
        "print(\"Old list:\", old_list)\n",
        "print(\"New list:\", new_list)"
      ],
      "execution_count": 0,
      "outputs": [
        {
          "output_type": "stream",
          "text": [
            "Old list: [[1, 1, 1], [2, 'AA', 2], [3, 3, 3]]\n",
            "New list: [[1, 1, 1], [2, 'AA', 2], [3, 3, 3]]\n"
          ],
          "name": "stdout"
        }
      ]
    },
    {
      "cell_type": "code",
      "metadata": {
        "id": "jIkjRFVftqo4",
        "colab_type": "code",
        "colab": {},
        "outputId": "860718b9-99f5-4822-e5a4-dbb204aafdd8"
      },
      "source": [
        "id(old_list)"
      ],
      "execution_count": 0,
      "outputs": [
        {
          "output_type": "execute_result",
          "data": {
            "text/plain": [
              "4478106376"
            ]
          },
          "metadata": {
            "tags": []
          },
          "execution_count": 52
        }
      ]
    },
    {
      "cell_type": "code",
      "metadata": {
        "id": "eqXu6atstqo8",
        "colab_type": "code",
        "colab": {},
        "outputId": "ed740b69-e3db-4605-b465-ed34e15c0940"
      },
      "source": [
        "id(new_list)"
      ],
      "execution_count": 0,
      "outputs": [
        {
          "output_type": "execute_result",
          "data": {
            "text/plain": [
              "4478204104"
            ]
          },
          "metadata": {
            "tags": []
          },
          "execution_count": 53
        }
      ]
    },
    {
      "cell_type": "code",
      "metadata": {
        "id": "JsTJAzlEtqo_",
        "colab_type": "code",
        "colab": {},
        "outputId": "b7cc443d-c9de-4d98-de4b-eafce0bfd8d9"
      },
      "source": [
        "id(old_list[1])"
      ],
      "execution_count": 0,
      "outputs": [
        {
          "output_type": "execute_result",
          "data": {
            "text/plain": [
              "4478287560"
            ]
          },
          "metadata": {
            "tags": []
          },
          "execution_count": 54
        }
      ]
    },
    {
      "cell_type": "code",
      "metadata": {
        "id": "2P4H1hmAtqpC",
        "colab_type": "code",
        "colab": {},
        "outputId": "220eaa21-b600-43f5-a133-2b139b881a28"
      },
      "source": [
        "id(new_list[1])"
      ],
      "execution_count": 0,
      "outputs": [
        {
          "output_type": "execute_result",
          "data": {
            "text/plain": [
              "4478287560"
            ]
          },
          "metadata": {
            "tags": []
          },
          "execution_count": 55
        }
      ]
    },
    {
      "cell_type": "markdown",
      "metadata": {
        "id": "Ag1123g2tqpE",
        "colab_type": "text"
      },
      "source": [
        "#### Deep Copy"
      ]
    },
    {
      "cell_type": "code",
      "metadata": {
        "id": "dZeeWBQRtqpF",
        "colab_type": "code",
        "colab": {},
        "outputId": "5516feb5-79c3-4465-a6a2-fcb6df3eb1b4"
      },
      "source": [
        "old_list = [[1, 1, 1], [2, 2, 2], [3, 3, 3]]\n",
        "new_list = copy.deepcopy(old_list)\n",
        "\n",
        "print(\"Old list:\", old_list)\n",
        "print(\"New list:\", new_list)"
      ],
      "execution_count": 0,
      "outputs": [
        {
          "output_type": "stream",
          "text": [
            "Old list: [[1, 1, 1], [2, 2, 2], [3, 3, 3]]\n",
            "New list: [[1, 1, 1], [2, 2, 2], [3, 3, 3]]\n"
          ],
          "name": "stdout"
        }
      ]
    },
    {
      "cell_type": "code",
      "metadata": {
        "id": "UpaB-nQntqpH",
        "colab_type": "code",
        "colab": {},
        "outputId": "0680efad-5ad7-4792-de8f-422b730d60da"
      },
      "source": [
        "old_list[1][0] = 'BB'\n",
        "\n",
        "print(\"Old list:\", old_list)\n",
        "print(\"New list:\", new_list)"
      ],
      "execution_count": 0,
      "outputs": [
        {
          "output_type": "stream",
          "text": [
            "Old list: [[1, 1, 1], ['BB', 2, 2], [3, 3, 3]]\n",
            "New list: [[1, 1, 1], [2, 2, 2], [3, 3, 3]]\n"
          ],
          "name": "stdout"
        }
      ]
    },
    {
      "cell_type": "code",
      "metadata": {
        "id": "kRm2cPw3tqpK",
        "colab_type": "code",
        "colab": {},
        "outputId": "eba48e48-2a43-427a-9dd2-2b6dc34bffde"
      },
      "source": [
        "id(old_list)"
      ],
      "execution_count": 0,
      "outputs": [
        {
          "output_type": "execute_result",
          "data": {
            "text/plain": [
              "4478252296"
            ]
          },
          "metadata": {
            "tags": []
          },
          "execution_count": 58
        }
      ]
    },
    {
      "cell_type": "code",
      "metadata": {
        "id": "1kvQm_wDtqpM",
        "colab_type": "code",
        "colab": {},
        "outputId": "925c15be-e620-489e-f6cf-5262b1ff2e2c"
      },
      "source": [
        "id(new_list)"
      ],
      "execution_count": 0,
      "outputs": [
        {
          "output_type": "execute_result",
          "data": {
            "text/plain": [
              "4478272904"
            ]
          },
          "metadata": {
            "tags": []
          },
          "execution_count": 59
        }
      ]
    },
    {
      "cell_type": "code",
      "metadata": {
        "id": "790ALxTntqpP",
        "colab_type": "code",
        "colab": {},
        "outputId": "feba702c-6b9c-4a2e-dc83-e576adb5a00e"
      },
      "source": [
        "id(old_list[1])"
      ],
      "execution_count": 0,
      "outputs": [
        {
          "output_type": "execute_result",
          "data": {
            "text/plain": [
              "4478253640"
            ]
          },
          "metadata": {
            "tags": []
          },
          "execution_count": 60
        }
      ]
    },
    {
      "cell_type": "code",
      "metadata": {
        "id": "CXjWMIFStqpR",
        "colab_type": "code",
        "colab": {},
        "outputId": "466534aa-de29-41dd-890b-f633eea5c268"
      },
      "source": [
        "id(new_list[1])"
      ],
      "execution_count": 0,
      "outputs": [
        {
          "output_type": "execute_result",
          "data": {
            "text/plain": [
              "4478234120"
            ]
          },
          "metadata": {
            "tags": []
          },
          "execution_count": 61
        }
      ]
    },
    {
      "cell_type": "code",
      "metadata": {
        "id": "rHWS1Bg2tqpU",
        "colab_type": "code",
        "colab": {}
      },
      "source": [
        ""
      ],
      "execution_count": 0,
      "outputs": []
    }
  ]
}